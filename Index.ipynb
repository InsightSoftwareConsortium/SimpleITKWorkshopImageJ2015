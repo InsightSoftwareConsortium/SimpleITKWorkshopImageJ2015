{
 "cells": [
  {
   "cell_type": "markdown",
   "metadata": {},
   "source": [
    "# Image Registration with SimpleITK\n",
    "\n",
    "### 2015 ImageJ User & Developer Conference\n",
    "### Matt McCormick, PhD, Kitware, Inc\n",
    "\n",
    "To quantitatively compare the contents of two images, they must be spatially aligned. Image registration finds the spatial transformation that aligns two images. This workshop presents [SimpleITK](http://simpleitk.org), the simplified interface to the [Insight Toolkit](http://itk.org), to perform 2D and 3D image registration. With this programming library, which interoperates with [ImageJ](http://imagej.net/ImageJ)/[Fiji](http://imagej.net/Fiji), a spatial transformation between two images can be estimated. This spatial transformation can be quantified to learn about movement or deformation in the images, or it can be used to resample one of the images so that pixel-to-pixel content can be compared. Through interactive examples in [Jupyter](http://jupyter.org/) notebooks, we will explore and learn about the components of the registration framework and how they work together: transforms, interpolators, similarity metrics, and optimizers. \n",
    "\n",
    "## Tutorials\n",
    "\n",
    "1. [Introduction to the Insight Toolkit (ITK)](1_Introduction_to_the_Insight_Toolkit.ipynb) # 10\n",
    "2. [Working in Jupyter Notebooks](2_Jupyter_Notebook.ipynb) # 10\n",
    "3. [Images and Physical Space](3_Images_and_Physical_Space.ipynb) # 20\n",
    "4. [Resampling Images](3_Resampling_Images.ipynb) # 20\n",
    "5. [Spatial Transformations](4_Spatial_Transformations.ipynb) # 20\n",
    "6. [Similarity Metrics](5_Similarity_Metrics.ipynb) # 20\n",
    "7. [Registration_Optimization.ipynb](6_Registration_Optimization.ipynb) # 20"
   ]
  }
 ],
 "metadata": {
  "kernelspec": {
   "display_name": "Python 3",
   "language": "python",
   "name": "python3"
  },
  "language_info": {
   "codemirror_mode": {
    "name": "ipython",
    "version": 3
   },
   "file_extension": ".py",
   "mimetype": "text/x-python",
   "name": "python",
   "nbconvert_exporter": "python",
   "pygments_lexer": "ipython3",
   "version": "3.4.2"
  }
 },
 "nbformat": 4,
 "nbformat_minor": 0
}
