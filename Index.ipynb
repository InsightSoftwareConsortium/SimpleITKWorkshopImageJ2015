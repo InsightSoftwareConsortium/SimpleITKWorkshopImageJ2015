{
 "cells": [
  {
   "cell_type": "markdown",
   "metadata": {
    "slideshow": {
     "slide_type": "slide"
    }
   },
   "source": [
    "# Image Registration with SimpleITK\n",
    "\n",
    "[![ImageJ Conference 2015](Data/ImageJConference2015.jpg)](http://imagej.net/Conference_2015)\n",
    "\n",
    "### 2015 ImageJ User & Developer Conference\n",
    "\n",
    "### Matt McCormick, PhD, Kitware, Inc\n",
    "\n",
    "[![Circle CI](https://circleci.com/gh/InsightSoftwareConsortium/SimpleITKWorkshopImageJ2015.svg?style=svg)](https://circleci.com/gh/InsightSoftwareConsortium/SimpleITKWorkshopImageJ2015)"
   ]
  },
  {
   "cell_type": "markdown",
   "metadata": {
    "slideshow": {
     "slide_type": "slide"
    }
   },
   "source": [
    "## Abstract\n",
    "\n",
    "[![SimpleITK](Data/SimpleITKLogo.jpg)](http://www.simpleitk.org/)\n",
    "\n",
    "To quantitatively compare the contents of two images, they must be spatially aligned. Image registration finds the spatial transformation that aligns two images. This workshop presents [SimpleITK](http://simpleitk.org), the simplified interface to the [Insight Toolkit](http://itk.org), to perform 2D and 3D image registration. With this programming library, which interoperates with [ImageJ](http://imagej.net/ImageJ)/[Fiji](http://imagej.net/Fiji), a spatial transformation between two images can be estimated. This spatial transformation can be quantified to learn about movement or deformation in the images, or it can be used to resample one of the images so that pixel-to-pixel content can be compared. Through interactive examples in [Jupyter](http://jupyter.org/) notebooks, we will explore and learn about the components of the registration framework and how they work together: transforms, interpolators, similarity metrics, and optimizers.\n"
   ]
  },
  {
   "cell_type": "markdown",
   "metadata": {
    "slideshow": {
     "slide_type": "slide"
    }
   },
   "source": [
    "## Tutorials\n",
    "\n",
    "1. [Introduction to the Insight Toolkit (ITK)](1_Introduction_to_the_Insight_Toolkit.ipynb)\n",
    "2. [Working in Jupyter Notebooks](2_Jupyter_Notebook.ipynb)\n",
    "3. [Images and Physical Space](3_Images_and_Physical_Space.ipynb)\n",
    "4. [Resampling Images](4_Resampling_Images.ipynb)\n",
    "5. [Spatial Transformations](5_Spatial_Transformations.ipynb)\n",
    "6. [Similarity Metrics](6_Similarity_Metrics.ipynb)\n",
    "7. [Registration Optimization](7_Registration_Optimization.ipynb)"
   ]
  }
 ],
 "metadata": {
  "kernelspec": {
   "display_name": "Python 3",
   "language": "python",
   "name": "python3"
  },
  "language_info": {
   "codemirror_mode": {
    "name": "ipython",
    "version": 3
   },
   "file_extension": ".py",
   "mimetype": "text/x-python",
   "name": "python",
   "nbconvert_exporter": "python",
   "pygments_lexer": "ipython3",
   "version": "3.4.2"
  }
 },
 "nbformat": 4,
 "nbformat_minor": 0
}
