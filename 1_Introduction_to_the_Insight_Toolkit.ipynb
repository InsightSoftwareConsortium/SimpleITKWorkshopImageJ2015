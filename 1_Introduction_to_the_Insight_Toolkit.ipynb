{
 "cells": [
  {
   "cell_type": "markdown",
   "metadata": {
    "slideshow": {
     "slide_type": "slide"
    }
   },
   "source": [
    "# Introduction to the Insight Toolkit (ITK)"
   ]
  },
  {
   "cell_type": "markdown",
   "metadata": {
    "slideshow": {
     "slide_type": "slide"
    }
   },
   "source": [
    "## Getting to Know Your Workshop Tutor\n",
    "\n",
    "### Matt McCormick"
   ]
  },
  {
   "cell_type": "markdown",
   "metadata": {
    "slideshow": {
     "slide_type": "subslide"
    }
   },
   "source": [
    "### Native Midwesterner\n",
    "\n",
    "![Ice cream](Data/IceCream.jpg)"
   ]
  },
  {
   "cell_type": "markdown",
   "metadata": {
    "slideshow": {
     "slide_type": "subslide"
    }
   },
   "source": [
    "### Proud Badger\n",
    "\n",
    "![UW Madison](Data/UWMadison.jpg)\n",
    "\n",
    "UW-Madison Biomedical Engineering, PhD, 2011, Diagnostic Ultrasound Imaging"
   ]
  },
  {
   "cell_type": "markdown",
   "metadata": {
    "slideshow": {
     "slide_type": "subslide"
    }
   },
   "source": [
    "### Currently at Kitware, Inc\n",
    "\n",
    "\n",
    "![Kitware ITK](Data/KitwareITK.jpg)\n",
    "\n",
    "![Kitware overview](Data/KitwareOverview.jpg)\n",
    "\n",
    "- Collaborative, Open Source, Scientific Software Development\n",
    "- Carrboro, NC, near University of North Carolina-Chapel Hill, in the Research Triangle"
   ]
  },
  {
   "cell_type": "markdown",
   "metadata": {
    "slideshow": {
     "slide_type": "slide"
    }
   },
   "source": [
    "## History of ITK"
   ]
  },
  {
   "cell_type": "markdown",
   "metadata": {
    "slideshow": {
     "slide_type": "subslide"
    }
   },
   "source": [
    "### Insight into Images\n",
    "\n",
    "![Visible Human Head Rendering](Data/VisibleHumanHeadRender.png)\n",
    "\n",
    "http://itk.org"
   ]
  },
  {
   "cell_type": "markdown",
   "metadata": {
    "slideshow": {
     "slide_type": "subslide"
    }
   },
   "source": [
    "### History\n",
    "\n",
    "In 1999, the US National Institute of Health’s (NIH) National Library of Medicine (NLM) started a project to support the Visible Human Project.\n",
    "\n",
    "![Visible Human Logo](Data/VisibleHumanLogo.png)\n",
    "\n",
    "![Visible Human Slice](Data/VisibleHumanSlice.png)\n"
   ]
  },
  {
   "cell_type": "markdown",
   "metadata": {
    "slideshow": {
     "slide_type": "subslide"
    }
   },
   "source": [
    "### Goals\n",
    "\n",
    "* Collect best-of-the-best image analysis algorithms for reproducible science.\n",
    "* Provide a software resource for teaching medical image analysis algorithms.\n",
    "* Establish a foundation for future research.\n",
    "* Support commercial applications.\n",
    "* Create conventions for future work.\n",
    "* Grow a self-sustaining community of software users and developers."
   ]
  },
  {
   "cell_type": "markdown",
   "metadata": {
    "slideshow": {
     "slide_type": "subslide"
    }
   },
   "source": [
    "### Continued Development\n",
    "\n",
    "* Development has progressed since 1999\n",
    "* Contributions from over 267 developers\n",
    "* Over 1.6 million lines of code\n",
    "* Downloaded over 500,000 times\n",
    "\n",
    "![Code reviews](Data/CodeReviews.png)"
   ]
  },
  {
   "cell_type": "markdown",
   "metadata": {
    "slideshow": {
     "slide_type": "subslide"
    }
   },
   "source": [
    "### SimpleITK\n",
    "\n",
    "![SimpleITK](Data/SimpleITKLogo.jpg)\n",
    "\n",
    "* SimpleITK is a simplified layer built on top of ITK, intended to facilitate its use in rapid prototyping, education, interpreted languages.\n",
    "* Released 0.3.0 in conjunction with the ITKv4 effort, 2011.\n",
    "* Provides a simplified, easy-to-use, procedural interface without templates.\n",
    "* Binary distributions for Python and Java."
   ]
  },
  {
   "cell_type": "markdown",
   "metadata": {
    "slideshow": {
     "slide_type": "slide"
    }
   },
   "source": [
    "## Features"
   ]
  },
  {
   "cell_type": "markdown",
   "metadata": {
    "slideshow": {
     "slide_type": "subslide"
    }
   },
   "source": [
    "#### N-Dimensional Image Filtering\n",
    "\n",
    "![Filtering](Data/Filtering.png)"
   ]
  },
  {
   "cell_type": "markdown",
   "metadata": {
    "slideshow": {
     "slide_type": "subslide"
    }
   },
   "source": [
    "#### Segmentation\n",
    "\n",
    "![Segmentation](Data/SegmentationLevelSet.png)"
   ]
  },
  {
   "cell_type": "markdown",
   "metadata": {
    "slideshow": {
     "slide_type": "subslide"
    }
   },
   "source": [
    "#### Registration\n",
    "\n",
    "![Registration](Data/Registration.png)"
   ]
  },
  {
   "cell_type": "markdown",
   "metadata": {
    "slideshow": {
     "slide_type": "subslide"
    }
   },
   "source": [
    "#### Other data structions\n",
    " * Mesh's\n",
    " * Transforms's\n",
    " * SpatialObject's\n",
    " * Path's\n",
    " * LabelMap's\n",
    "\n",
    "![Mesh](Data/Mesh.png)\n",
    "\n",
    "![Transform](Data/Transformation.png)"
   ]
  },
  {
   "cell_type": "markdown",
   "metadata": {
    "slideshow": {
     "slide_type": "slide"
    }
   },
   "source": [
    "## ImageJ / Fiji and the Insight Toolkit"
   ]
  },
  {
   "cell_type": "markdown",
   "metadata": {
    "slideshow": {
     "slide_type": "subslide"
    }
   },
   "source": [
    "### SCIFIO Module for ITK\n",
    "\n",
    "- Allows ITK to read the many file formats supported by [SCIFIO](http://scif.io/) (the next generation of Bio-formats)\n",
    "- Developed by Mark Hiner, Curtis Reuden of [LOCI](http://loci.wisc.edu/)\n",
    "\n",
    "![SCIFIO](Data/SCIFIO.png)"
   ]
  },
  {
   "cell_type": "markdown",
   "metadata": {
    "slideshow": {
     "slide_type": "subslide"
    }
   },
   "source": [
    "#### Enabling SCIFIO in ITK\n",
    "\n",
    "- Turn on Module_SCIFIO in ITK's CMake build configuration\n",
    "\n",
    "![Enabling SCIFIO](Data/EnableSCIFIOInCMake.png)"
   ]
  },
  {
   "cell_type": "markdown",
   "metadata": {
    "collapsed": true,
    "slideshow": {
     "slide_type": "subslide"
    }
   },
   "source": [
    "#### Export a MetaImage file for ITK from Fiji\n",
    "\n",
    "ITK supports many file formats, but to save in a flexible format with very good support in ITK, save as MetaImage, *.mha* or *.mhd*.\n",
    "\n",
    "![Save as MetaImage in Fiji](Data/FijiMetaImageExport.png)"
   ]
  },
  {
   "cell_type": "markdown",
   "metadata": {
    "slideshow": {
     "slide_type": "subslide"
    }
   },
   "source": [
    "#### SimpleITK uses ImageJ / Fiji by default to show images\n",
    "\n",
    "- SimpleITK calls output [ImageJ](http://fiji.sc/ImageJ) by default in its [Show()](http://www.itk.org/SimpleITKDoxygen/html/namespaceitk_1_1simple.html#a7bacfc4685cff93e46d7401865f9579e) command to visualize images.\n",
    "- Migration to [Fiji](http://fiji.sc/Fiji) in process.\n",
    "\n",
    "![Fiji](Data/FijiLogo.png)"
   ]
  }
 ],
 "metadata": {
  "kernelspec": {
   "display_name": "Python 3",
   "language": "python",
   "name": "python3"
  },
  "language_info": {
   "codemirror_mode": {
    "name": "ipython",
    "version": 3
   },
   "file_extension": ".py",
   "mimetype": "text/x-python",
   "name": "python",
   "nbconvert_exporter": "python",
   "pygments_lexer": "ipython3",
   "version": "3.4.2"
  }
 },
 "nbformat": 4,
 "nbformat_minor": 0
}
