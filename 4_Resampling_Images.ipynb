{
 "cells": [
  {
   "cell_type": "markdown",
   "metadata": {
    "slideshow": {
     "slide_type": "slide"
    }
   },
   "source": [
    "# Resampling Images"
   ]
  },
  {
   "cell_type": "markdown",
   "metadata": {
    "slideshow": {
     "slide_type": "slide"
    }
   },
   "source": [
    "## Overview"
   ]
  },
  {
   "cell_type": "markdown",
   "metadata": {
    "slideshow": {
     "slide_type": "subslide"
    }
   },
   "source": [
    "### Define output image information\n",
    "\n",
    "* When resampling an image, we must first define output the image information, i.e. the *Origin*, *Spacing*, *Direction*, and *Size*.\n",
    "* This determines the grid of samples where the output will be sampled.\n",
    "* It does need not need to be the same as the input image."
   ]
  },
  {
   "cell_type": "markdown",
   "metadata": {
    "slideshow": {
     "slide_type": "subslide"
    }
   },
   "source": [
    "![Resampling output information](Data/ResampleOutputInformation.png)"
   ]
  },
  {
   "cell_type": "markdown",
   "metadata": {
    "slideshow": {
     "slide_type": "subslide"
    }
   },
   "source": [
    "### Finding a resampled pixel's value\n",
    "\n",
    "For each pixel in the output image:\n",
    "\n",
    "1. Transform its index value to its location in physical space.\n",
    "2. Apply an optional spatial transformation.\n",
    "3. Transform the physical point location to a continuous index on the image to be resampled.\n",
    "4. Interpolate from neighboring pixels."
   ]
  },
  {
   "cell_type": "markdown",
   "metadata": {
    "slideshow": {
     "slide_type": "subslide"
    }
   },
   "source": [
    "![Common reference system](Data/CommonReferenceSystem.png)"
   ]
  },
  {
   "cell_type": "markdown",
   "metadata": {
    "slideshow": {
     "slide_type": "subslide"
    }
   },
   "source": [
    "### Different interpolators\n",
    "\n",
    "<a href=\"http://www.itk.org/SimpleITKDoxygen/html/namespaceitk_1_1simple.html#a7cb1ef8bd02c669c02ea2f9f5aa374e5\">There are many interpolators available</a>:\n",
    "<ul>\n",
    "<li> sitkNearestNeighbor </li>\n",
    "<li> sitkLinear </li>\n",
    "<li> sitkBSpline </li>\n",
    "<li> sitkGaussian </li>\n",
    "<li> sitkHammingWindowedSinc </li>\n",
    "<li> sitkCosineWindowedSinc </li>\n",
    "<li> sitkWelchWindowedSinc </li>\n",
    "<li> sitkLanczosWindowedSinc </li>\n",
    "<li> sitkBlackmanWindowedSinc </li>\n",
    "</ul>"
   ]
  },
  {
   "cell_type": "markdown",
   "metadata": {
    "slideshow": {
     "slide_type": "subslide"
    }
   },
   "source": [
    "### Resampling and the registration framework\n",
    "\n",
    "**Registration** involves **sampling** the two images to be registered with at **spatial transform**. The sampled values are compared with a **similarity metric**.  An **optimizer** is used to improve the spatial transformation parameters iteratively until the samples coorespond.\n",
    "\n",
    "![Registration framework](Data/ITKv4RegistrationComponentsDiagram.svg)"
   ]
  },
  {
   "cell_type": "markdown",
   "metadata": {
    "slideshow": {
     "slide_type": "subslide"
    }
   },
   "source": [
    "## Tutorial"
   ]
  },
  {
   "cell_type": "code",
   "execution_count": null,
   "metadata": {
    "collapsed": true,
    "slideshow": {
     "slide_type": "subslide"
    }
   },
   "outputs": [],
   "source": [
    "import SimpleITK as sitk\n",
    "\n",
    "from matplotlib import pyplot as plt\n",
    "%matplotlib inline\n",
    "\n",
    "import numpy as np"
   ]
  },
  {
   "cell_type": "markdown",
   "metadata": {
    "slideshow": {
     "slide_type": "subslide"
    }
   },
   "source": [
    "Read a 3D input image."
   ]
  },
  {
   "cell_type": "code",
   "execution_count": null,
   "metadata": {
    "collapsed": false,
    "slideshow": {
     "slide_type": "fragment"
    }
   },
   "outputs": [],
   "source": [
    "input_image = sitk.ReadImage('Data/NESb_C2_TP1.tiff')\n",
    "print(input_image.GetSize())"
   ]
  },
  {
   "cell_type": "markdown",
   "metadata": {
    "slideshow": {
     "slide_type": "subslide"
    }
   },
   "source": [
    "View one of its slices."
   ]
  },
  {
   "cell_type": "code",
   "execution_count": null,
   "metadata": {
    "collapsed": false,
    "slideshow": {
     "slide_type": "fragment"
    }
   },
   "outputs": [],
   "source": [
    "input_slice = input_image[:,:,4]\n",
    "plt.imshow(sitk.GetArrayFromImage(input_slice), cmap='gray')"
   ]
  },
  {
   "cell_type": "markdown",
   "metadata": {
    "slideshow": {
     "slide_type": "subslide"
    }
   },
   "source": [
    "Create a resampler."
   ]
  },
  {
   "cell_type": "code",
   "execution_count": null,
   "metadata": {
    "collapsed": true,
    "slideshow": {
     "slide_type": "fragment"
    }
   },
   "outputs": [],
   "source": [
    "resampler = sitk.ResampleImageFilter()"
   ]
  },
  {
   "cell_type": "markdown",
   "metadata": {
    "slideshow": {
     "slide_type": "subslide"
    }
   },
   "source": [
    "What are the options that can be set on the `resampler`?"
   ]
  },
  {
   "cell_type": "code",
   "execution_count": null,
   "metadata": {
    "collapsed": true,
    "slideshow": {
     "slide_type": "fragment"
    }
   },
   "outputs": [],
   "source": [
    "# Uncomment the line below and place the cursor after the \"t\" in \"Set\"\n",
    "# Then, press the TAB key.\n",
    "#resampler.Set"
   ]
  },
  {
   "cell_type": "markdown",
   "metadata": {
    "slideshow": {
     "slide_type": "subslide"
    }
   },
   "source": [
    "We can either set use a *reference image* to determine the output image pixel sampling grid, or we can set desired output image information manually.\n",
    "\n",
    "Here we will make the output image size half of the input image size in each direction."
   ]
  },
  {
   "cell_type": "code",
   "execution_count": null,
   "metadata": {
    "collapsed": false,
    "slideshow": {
     "slide_type": "fragment"
    }
   },
   "outputs": [],
   "source": [
    "origin = input_image.GetOrigin()\n",
    "resampler.SetOutputOrigin(origin)\n",
    "\n",
    "direction = input_image.GetDirection()\n",
    "resampler.SetOutputDirection(direction)\n",
    "\n",
    "spacing = input_image.GetSpacing()\n",
    "resampler.SetOutputSpacing(spacing)\n",
    "\n",
    "size = list(input_image.GetSize())\n",
    "size[0] = int(size[0] / 2)\n",
    "size[1] = int(size[1] / 2)\n",
    "resampler.SetSize(size)\n",
    "print(size)"
   ]
  },
  {
   "cell_type": "code",
   "execution_count": null,
   "metadata": {
    "collapsed": false,
    "slideshow": {
     "slide_type": "subslide"
    }
   },
   "outputs": [],
   "source": [
    "resampled_image = resampler.Execute(input_image)\n",
    "plt.imshow(sitk.GetArrayFromImage(resampled_image[:,:,4]), cmap='gray')"
   ]
  },
  {
   "cell_type": "markdown",
   "metadata": {
    "slideshow": {
     "slide_type": "subslide"
    }
   },
   "source": [
    "We can also apply a spatial transform in the resampling process."
   ]
  },
  {
   "cell_type": "code",
   "execution_count": null,
   "metadata": {
    "collapsed": false,
    "slideshow": {
     "slide_type": "fragment"
    }
   },
   "outputs": [],
   "source": [
    "dimension = 3\n",
    "translation = (-100.0, -200.0, 0.0)\n",
    "transform = sitk.TranslationTransform(dimension, translation)\n",
    "resampler.SetTransform(transform)"
   ]
  },
  {
   "cell_type": "code",
   "execution_count": null,
   "metadata": {
    "collapsed": false,
    "slideshow": {
     "slide_type": "fragment"
    }
   },
   "outputs": [],
   "source": [
    "resampled_image = resampler.Execute(input_image)\n",
    "plt.imshow(sitk.GetArrayFromImage(resampled_image[:,:,4]), cmap='gray')"
   ]
  },
  {
   "cell_type": "markdown",
   "metadata": {
    "slideshow": {
     "slide_type": "subslide"
    }
   },
   "source": [
    "When the input image is sampled outside of its domain, a *default pixel value* is returned."
   ]
  },
  {
   "cell_type": "code",
   "execution_count": null,
   "metadata": {
    "collapsed": false,
    "slideshow": {
     "slide_type": "fragment"
    }
   },
   "outputs": [],
   "source": [
    "resampler.SetDefaultPixelValue(150)"
   ]
  },
  {
   "cell_type": "code",
   "execution_count": null,
   "metadata": {
    "collapsed": false,
    "slideshow": {
     "slide_type": "fragment"
    }
   },
   "outputs": [],
   "source": [
    "resampled_image = resampler.Execute(input_image)\n",
    "plt.imshow(sitk.GetArrayFromImage(resampled_image[:,:,4]), cmap='gray')"
   ]
  },
  {
   "cell_type": "markdown",
   "metadata": {
    "slideshow": {
     "slide_type": "subslide"
    }
   },
   "source": [
    "Finally, we can also change the interpolator used.  The default is a bi-linear interpolator for 2D images and a tri-linear interpolator for 3D images."
   ]
  },
  {
   "cell_type": "code",
   "execution_count": null,
   "metadata": {
    "collapsed": false,
    "slideshow": {
     "slide_type": "fragment"
    }
   },
   "outputs": [],
   "source": [
    "resampler.SetInterpolator(sitk.sitkNearestNeighbor)"
   ]
  },
  {
   "cell_type": "code",
   "execution_count": null,
   "metadata": {
    "collapsed": false,
    "slideshow": {
     "slide_type": "fragment"
    }
   },
   "outputs": [],
   "source": [
    "resampled_image = resampler.Execute(input_image)\n",
    "plt.imshow(sitk.GetArrayFromImage(resampled_image[:,:,4]), cmap='gray')"
   ]
  },
  {
   "cell_type": "markdown",
   "metadata": {
    "slideshow": {
     "slide_type": "subslide"
    }
   },
   "source": [
    "## Exercises"
   ]
  },
  {
   "cell_type": "markdown",
   "metadata": {
    "slideshow": {
     "slide_type": "subslide"
    }
   },
   "source": [
    "### Exercise 1: Windowed Sinc\n",
    "\n",
    "Run the `resampler` with the `sitk.sitkWelchWindowedSinc` interpolator.  What is different?"
   ]
  },
  {
   "cell_type": "code",
   "execution_count": null,
   "metadata": {
    "collapsed": true,
    "slideshow": {
     "slide_type": "fragment"
    }
   },
   "outputs": [],
   "source": []
  },
  {
   "cell_type": "markdown",
   "metadata": {
    "slideshow": {
     "slide_type": "subslide"
    }
   },
   "source": [
    "### Exercise 2: Interpolator behavior\n",
    "\n",
    "The behavior of different interpolators is demonstrated on the <a href=\"http://www.cs.cornell.edu/~srm/publications/Vis94-filters-abstract.html\">Marschner-Lobb</a> image with the code below.\n",
    "\n",
    "Which interpolators before best? Is performance related to the experiences from Exercise 1?"
   ]
  },
  {
   "cell_type": "code",
   "execution_count": null,
   "metadata": {
    "collapsed": false,
    "slideshow": {
     "slide_type": "fragment"
    }
   },
   "outputs": [],
   "source": [
    "import math\n",
    "\n",
    "def marschner_lobb(size=40, alpha=0.25, f_M=6.0):\n",
    "    img = sitk.PhysicalPointSource(sitk.sitkVectorFloat32, [size]*3, [-1]*3, [2.0/size]*3)\n",
    "    imgx = sitk.VectorIndexSelectionCast(img, 0)\n",
    "    imgy = sitk.VectorIndexSelectionCast(img, 1)\n",
    "    imgz = sitk.VectorIndexSelectionCast(img, 2)\n",
    "    del img\n",
    "    r = sitk.Sqrt(imgx**2 + imgy**2)\n",
    "    del imgx, imgy\n",
    "    pr = sitk.Cos((2.0*math.pi*f_M)*sitk.Cos((math.pi/2.0)*r))\n",
    "    ml = (1.0 - sitk.Sin((math.pi/2.0)*imgz) + alpha*(1.0+pr))/(2.0*(1.0+alpha))\n",
    "    return ml[:,:,ml.GetSize()[-1]//2]\n",
    "\n",
    "def myshow(image, title):\n",
    "    arr = sitk.GetArrayFromImage(image)\n",
    "    fig = plt.figure()\n",
    "    ax = fig.add_subplot(1, 1, 1)\n",
    "    ax.imshow(arr, cmap='gray')\n",
    "    ax.set_title(title)\n",
    "    \n",
    "def expand(image, interpolator):\n",
    "    return sitk.Expand(image, [5]*2, interpolator)\n",
    "\n",
    "interpolators = [('Nearest Neighbor', sitk.sitkNearestNeighbor),\n",
    "                 ('Linear', sitk.sitkLinear),\n",
    "                 ('B-Spline', sitk.sitkBSpline),\n",
    "                 ('Gaussian', sitk.sitkGaussian),\n",
    "                 ('Hamming Windowed Sinc', sitk.sitkHammingWindowedSinc),\n",
    "                 ('Blackman Windowed Sinc', sitk.sitkBlackmanWindowedSinc),\n",
    "                 ('Cosine Windowed Sinc', sitk.sitkCosineWindowedSinc),\n",
    "                 ('Welch Windowed Sinc', sitk.sitkWelchWindowedSinc),\n",
    "                 ('Lanczos Windowed Sinc', sitk.sitkLanczosWindowedSinc)]\n",
    "\n",
    "image = marschner_lobb()\n",
    "for interpolator in interpolators:\n",
    "    expanded = expand(image, interpolator[1])\n",
    "    myshow(expanded, interpolator[0])\n",
    "    "
   ]
  }
 ],
 "metadata": {
  "kernelspec": {
   "display_name": "Python 3",
   "language": "python",
   "name": "python3"
  },
  "language_info": {
   "codemirror_mode": {
    "name": "ipython",
    "version": 3
   },
   "file_extension": ".py",
   "mimetype": "text/x-python",
   "name": "python",
   "nbconvert_exporter": "python",
   "pygments_lexer": "ipython3",
   "version": "3.4.2"
  }
 },
 "nbformat": 4,
 "nbformat_minor": 0
}
